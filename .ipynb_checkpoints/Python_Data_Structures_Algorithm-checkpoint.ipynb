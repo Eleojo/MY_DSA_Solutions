{
 "cells": [
  {
   "cell_type": "markdown",
   "id": "b4f05ef4-9203-45f2-a3ce-598a5b227cf7",
   "metadata": {},
   "source": [
    "# Data Structures and Algorithm Exercise Solutions"
   ]
  },
  {
   "cell_type": "markdown",
   "id": "4de0dbb8-ceea-4d91-a8cb-8c30d31f30e2",
   "metadata": {},
   "source": [
    "## EXERCISES"
   ]
  },
  {
   "cell_type": "markdown",
   "id": "cfbe81fb-23e0-4c4f-85b2-b1f663b0fcde",
   "metadata": {},
   "source": [
    "### Exercise 1 \n",
    "Write a short Python function, is even(k), that takes an integer value and returns True if k is even, and False otherwise. However, your function cannot use the multiplication, modulo, or division operators."
   ]
  },
  {
   "cell_type": "code",
   "execution_count": 38,
   "id": "5c752376-69c1-4a05-a815-a67594532543",
   "metadata": {
    "collapsed": true,
    "jupyter": {
     "outputs_hidden": true
    }
   },
   "outputs": [],
   "source": [
    "def is_Even(k):\n",
    "    return (k & 1) == 0"
   ]
  },
  {
   "cell_type": "markdown",
   "id": "40b33f26-a1ea-404a-844e-4220381b070a",
   "metadata": {},
   "source": [
    "### Exercise 2\n",
    "Write a short Python function, minmax(data), that takes a sequence of one or more numbers, and returns the smallest and largest numbers, in the form of a tuple of length two. Do not use the built-in functions min or max in implementing your solution."
   ]
  },
  {
   "cell_type": "code",
   "execution_count": 39,
   "id": "4b7bdaf6-6f93-45ba-9b5d-959c2e876fdd",
   "metadata": {
    "collapsed": true,
    "jupyter": {
     "outputs_hidden": true
    }
   },
   "outputs": [],
   "source": [
    "def minmax(array):\n",
    "    mini = 100000000\n",
    "    maxi = 0\n",
    "    for i in array:\n",
    "        mini = i if mini > i else mini\n",
    "        maxi = i if maxi < i else maxi\n",
    "    return (mini,maxi)\n",
    "        "
   ]
  },
  {
   "cell_type": "code",
   "execution_count": null,
   "id": "5d72db64-ce04-4fb6-8df9-c661ddfcb8c4",
   "metadata": {
    "collapsed": true,
    "jupyter": {
     "outputs_hidden": true
    }
   },
   "outputs": [],
   "source": [
    "cards = [13, 11, 10, 7, 4, 3, 1, 0]"
   ]
  },
  {
   "cell_type": "code",
   "execution_count": 50,
   "id": "86be429a-0a6c-404d-ac6a-346fc7723fb0",
   "metadata": {
    "collapsed": true,
    "jupyter": {
     "outputs_hidden": true
    }
   },
   "outputs": [
    {
     "data": {
      "text/plain": [
       "(0, 13)"
      ]
     },
     "execution_count": 50,
     "metadata": {},
     "output_type": "execute_result"
    }
   ],
   "source": [
    "minmax(cards)"
   ]
  },
  {
   "cell_type": "markdown",
   "id": "733eaa16-30c9-44bc-bdde-54f72841d236",
   "metadata": {},
   "source": [
    "### Exercise 3\n",
    "Write a short Python function that takes a positive integer n and returns the sum of the squares of all the positive integers smaller than n.\n",
    "- one approach"
   ]
  },
  {
   "cell_type": "code",
   "execution_count": 30,
   "id": "8ea2a06d-a6c4-49fa-8991-5734709d9e61",
   "metadata": {
    "collapsed": true,
    "jupyter": {
     "outputs_hidden": true
    }
   },
   "outputs": [],
   "source": [
    "def sumsquareslessthan_n(n):\n",
    "    number = n-1\n",
    "    sum_of_squares = 0\n",
    "    while number > 0:\n",
    "        sum_of_squares+=number*number\n",
    "        number -= 1\n",
    "    return sum_of_squares\n",
    "\n",
    "        "
   ]
  },
  {
   "cell_type": "code",
   "execution_count": 33,
   "id": "bd0cc226-5837-4dcb-80e4-9cac5bd80437",
   "metadata": {
    "collapsed": true,
    "jupyter": {
     "outputs_hidden": true
    }
   },
   "outputs": [
    {
     "data": {
      "text/plain": [
       "14"
      ]
     },
     "execution_count": 33,
     "metadata": {},
     "output_type": "execute_result"
    }
   ],
   "source": [
    "sumsquareslessthan_n(4)"
   ]
  },
  {
   "cell_type": "markdown",
   "id": "f81301d0-db3b-46dd-8918-309b2b4c0771",
   "metadata": {},
   "source": [
    "- second approach"
   ]
  },
  {
   "cell_type": "code",
   "execution_count": 34,
   "id": "72ca2934-4ac0-4a20-9c33-2dd1f7b2101f",
   "metadata": {
    "collapsed": true,
    "jupyter": {
     "outputs_hidden": true
    }
   },
   "outputs": [],
   "source": [
    "def sumsquareslessthan_n2(n):\n",
    "    sum_ = 0\n",
    "    for i in range(1,n):\n",
    "        sum_+= (n - i)**2\n",
    "    return sum_"
   ]
  },
  {
   "cell_type": "code",
   "execution_count": 35,
   "id": "8dd33507-5bff-4bf9-99ff-0cf9a4589b3a",
   "metadata": {
    "collapsed": true,
    "jupyter": {
     "outputs_hidden": true
    }
   },
   "outputs": [
    {
     "data": {
      "text/plain": [
       "14"
      ]
     },
     "execution_count": 35,
     "metadata": {},
     "output_type": "execute_result"
    }
   ],
   "source": [
    "sumsquareslessthan_n2(4)"
   ]
  },
  {
   "cell_type": "markdown",
   "id": "af63d84a-eb5c-4830-bad7-66b2e5688fe6",
   "metadata": {},
   "source": [
    "### Exercise 4\n",
    "Give a single command that computes the sum from Exercise R-1.4, relying on Python’s comprehension syntax and the built-in sum function.- third approach"
   ]
  },
  {
   "cell_type": "code",
   "execution_count": 42,
   "id": "dc06650c-0021-4e91-9ded-49c28f1d4f56",
   "metadata": {
    "collapsed": true,
    "jupyter": {
     "outputs_hidden": true
    }
   },
   "outputs": [],
   "source": [
    "def sumsquareslessthan_n3(n):\n",
    "    return sum(i**2 for i in range(1,n))"
   ]
  },
  {
   "cell_type": "code",
   "execution_count": 43,
   "id": "1d89cd37-c9eb-4e07-98fb-7fdc169a2d96",
   "metadata": {
    "collapsed": true,
    "jupyter": {
     "outputs_hidden": true
    }
   },
   "outputs": [
    {
     "data": {
      "text/plain": [
       "14"
      ]
     },
     "execution_count": 43,
     "metadata": {},
     "output_type": "execute_result"
    }
   ],
   "source": [
    "sumsquareslessthan_n3(4)"
   ]
  },
  {
   "cell_type": "markdown",
   "id": "3f246167-1684-4e47-b3cd-7ef4f89872d4",
   "metadata": {},
   "source": [
    "### Exercise 5\n",
    "Write a short Python function that takes a positive integer n and returns the sum of the squares of all the odd positive integers smaller than n.\n",
    "- one approach"
   ]
  },
  {
   "cell_type": "code",
   "execution_count": 44,
   "id": "bb111c5e-6bdc-4ce7-82c0-ad1799bf0447",
   "metadata": {
    "collapsed": true,
    "jupyter": {
     "outputs_hidden": true
    }
   },
   "outputs": [],
   "source": [
    "def positive_integers_smaller_than_n(n):\n",
    "    number = n - 1\n",
    "    sum_of_squares = 0\n",
    "    while number > 0:\n",
    "        if (number & 1)==1:\n",
    "            sum_of_squares+= number* number\n",
    "        else:\n",
    "            pass\n",
    "        number -= 1\n",
    "    return sum_of_squares\n",
    "            \n",
    "        "
   ]
  },
  {
   "cell_type": "code",
   "execution_count": 45,
   "id": "a93e7467-df80-438a-bbfe-90ed647f2723",
   "metadata": {
    "collapsed": true,
    "jupyter": {
     "outputs_hidden": true
    }
   },
   "outputs": [
    {
     "data": {
      "text/plain": [
       "10"
      ]
     },
     "execution_count": 45,
     "metadata": {},
     "output_type": "execute_result"
    }
   ],
   "source": [
    "positive_integers_smaller_than_n(4)"
   ]
  },
  {
   "cell_type": "markdown",
   "id": "635238d2-7b24-4a2a-bbe6-6e1b931eaf71",
   "metadata": {},
   "source": [
    "- Second approach"
   ]
  },
  {
   "cell_type": "code",
   "execution_count": 48,
   "id": "a89c2ac7-5e07-459a-aa8b-c996bef19075",
   "metadata": {
    "collapsed": true,
    "jupyter": {
     "outputs_hidden": true
    }
   },
   "outputs": [],
   "source": [
    "def positive_integers_smaller_than_n2(n):\n",
    "    sum_ = 0\n",
    "    for i in range(1,n):\n",
    "        if (i & 1)==1:\n",
    "            sum_+= (n - i)**2\n",
    "    return sum_"
   ]
  },
  {
   "cell_type": "code",
   "execution_count": 49,
   "id": "7302c534-d274-4343-9b1a-4f66d46e0767",
   "metadata": {
    "collapsed": true,
    "jupyter": {
     "outputs_hidden": true
    }
   },
   "outputs": [
    {
     "data": {
      "text/plain": [
       "10"
      ]
     },
     "execution_count": 49,
     "metadata": {},
     "output_type": "execute_result"
    }
   ],
   "source": [
    "positive_integers_smaller_than_n2(4)"
   ]
  },
  {
   "cell_type": "markdown",
   "id": "0d4e7d7d-c804-4e80-9178-797403bc30bc",
   "metadata": {},
   "source": [
    "### Exercise 6\n",
    "What parameters should be sent to the range constructor, to produce a range with values 50, 60, 70, 80?"
   ]
  },
  {
   "cell_type": "code",
   "execution_count": 3,
   "id": "cc775f7d-2b53-413c-b790-be0be479bc4d",
   "metadata": {
    "collapsed": true,
    "jupyter": {
     "outputs_hidden": true
    }
   },
   "outputs": [
    {
     "name": "stdout",
     "output_type": "stream",
     "text": [
      "50\n",
      "60\n",
      "70\n",
      "80\n"
     ]
    }
   ],
   "source": [
    "for i in range(50,90,10):\n",
    "    print(i)"
   ]
  },
  {
   "cell_type": "code",
   "execution_count": 8,
   "id": "345cd2ac-2701-4137-a4e9-415b6e17118d",
   "metadata": {
    "collapsed": true,
    "jupyter": {
     "outputs_hidden": true
    }
   },
   "outputs": [
    {
     "name": "stdout",
     "output_type": "stream",
     "text": [
      "8\n",
      "6\n",
      "4\n",
      "2\n",
      "0\n",
      "-2\n",
      "-4\n",
      "-6\n",
      "-8\n"
     ]
    }
   ],
   "source": [
    "for i in range(8,-10,-2):\n",
    "    print(i)\n"
   ]
  },
  {
   "cell_type": "markdown",
   "id": "acfafb36-2145-4dfd-b5c7-e7ce44789bc3",
   "metadata": {},
   "source": [
    "### Exercise 7\n",
    "Demonstrate how to use Python’s list comprehension syntax to produce mthe list [1, 2, 4, 8, 16, 32, 64, 128, 256]."
   ]
  },
  {
   "cell_type": "code",
   "execution_count": 86,
   "id": "81a31ba4-7c84-45c9-a21d-9cb31b915e2e",
   "metadata": {
    "collapsed": true,
    "jupyter": {
     "outputs_hidden": true
    }
   },
   "outputs": [],
   "source": [
    "squares = [2**i for i in range(9)]"
   ]
  },
  {
   "cell_type": "code",
   "execution_count": 67,
   "id": "a3c67d91-add2-495b-904d-d6ed3f417a24",
   "metadata": {
    "collapsed": true,
    "jupyter": {
     "outputs_hidden": true
    }
   },
   "outputs": [
    {
     "data": {
      "text/plain": [
       "[1, 2, 4, 8, 16, 32, 64, 128, 256]"
      ]
     },
     "execution_count": 67,
     "metadata": {},
     "output_type": "execute_result"
    }
   ],
   "source": [
    "squares"
   ]
  },
  {
   "cell_type": "markdown",
   "id": "e1500981-c460-4123-ab00-8f3ab236745c",
   "metadata": {},
   "source": [
    "### Exercise 9\n",
    "Write a pseudo-code description of a function that reverses a list of n integers, so that the numbers are listed in the opposite order than they were before, and compare this method to an equivalent Python function for doing the same thing."
   ]
  },
  {
   "cell_type": "code",
   "execution_count": 89,
   "id": "f27b3622-da0f-490d-865c-ea511682d7ae",
   "metadata": {
    "collapsed": true,
    "jupyter": {
     "outputs_hidden": true
    }
   },
   "outputs": [
    {
     "data": {
      "text/plain": [
       "[1, 2, 4, 8, 16, 32, 64, 128, 256]"
      ]
     },
     "execution_count": 89,
     "metadata": {},
     "output_type": "execute_result"
    }
   ],
   "source": [
    "squares = [2**i for i in range(9)]\n",
    "squares"
   ]
  },
  {
   "cell_type": "markdown",
   "id": "93e00fec-404c-4b8b-b207-749d76fe3ead",
   "metadata": {},
   "source": [
    "- one approach\n",
    "- create a  list called reverser list that reverses the indices from behind and populates a new list that can then replace the old list\n",
    "- this one leaves the initial list unchanged. does not do the reversal in-place"
   ]
  },
  {
   "cell_type": "code",
   "execution_count": 73,
   "id": "63cc35fd-9742-418c-8631-c764e7045fd7",
   "metadata": {
    "collapsed": true,
    "jupyter": {
     "outputs_hidden": true
    }
   },
   "outputs": [
    {
     "data": {
      "text/plain": [
       "[1, 3, 5, 7, 9, 11, 13, 15, 17]"
      ]
     },
     "execution_count": 73,
     "metadata": {},
     "output_type": "execute_result"
    }
   ],
   "source": [
    "squares\n",
    "reverser = [i for i in range(1,(len(squares)) * 2 ,2)]\n",
    "reverser"
   ]
  },
  {
   "cell_type": "code",
   "execution_count": 90,
   "id": "184ddbdc-d023-48f5-9717-790261e2293f",
   "metadata": {
    "collapsed": true,
    "jupyter": {
     "outputs_hidden": true
    }
   },
   "outputs": [],
   "source": [
    "def reverse_list(array):\n",
    "    array2 = []\n",
    "    reverser = [i for i in range(1,(len(array)) * 2 ,2)]\n",
    "    for i in range(len(array)):\n",
    "        reverse = i-reverser[i]\n",
    "        array2.append(array[reverse])\n",
    "    array = array2\n",
    "    return array\n",
    "        "
   ]
  },
  {
   "cell_type": "code",
   "execution_count": 91,
   "id": "6c045fc8-c1e1-4d03-a97d-7a48224ac629",
   "metadata": {
    "collapsed": true,
    "jupyter": {
     "outputs_hidden": true
    }
   },
   "outputs": [
    {
     "data": {
      "text/plain": [
       "[256, 128, 64, 32, 16, 8, 4, 2, 1]"
      ]
     },
     "execution_count": 91,
     "metadata": {},
     "output_type": "execute_result"
    }
   ],
   "source": [
    "reverse_list(squares)\n"
   ]
  },
  {
   "cell_type": "code",
   "execution_count": 92,
   "id": "cc27af2a-d41f-451d-a5d2-39d90e35749a",
   "metadata": {
    "collapsed": true,
    "jupyter": {
     "outputs_hidden": true
    }
   },
   "outputs": [
    {
     "data": {
      "text/plain": [
       "[1, 2, 4, 8, 16, 32, 64, 128, 256]"
      ]
     },
     "execution_count": 92,
     "metadata": {},
     "output_type": "execute_result"
    }
   ],
   "source": [
    "squares"
   ]
  },
  {
   "cell_type": "markdown",
   "id": "8a6624a6-ab31-41ca-8033-33a3053815b9",
   "metadata": {},
   "source": [
    "- second approach.\n",
    "- switch the elements positions by counting indices upward and downward simultaneously  using pythons simultaneos assignment. this one does the work in place"
   ]
  },
  {
   "cell_type": "code",
   "execution_count": 103,
   "id": "2b31561e-6e1c-4c7c-a546-7bda53cc5f3f",
   "metadata": {
    "collapsed": true,
    "jupyter": {
     "outputs_hidden": true
    }
   },
   "outputs": [],
   "source": [
    "def reverse_list3(array):\n",
    "    last_index_of_list = len(array) - 1\n",
    "    for i in range(length_of_list//2):\n",
    "        array[i],array[last_index_of_list - i] = array[last_index_of_list - i],array[i]\n",
    "    return array"
   ]
  },
  {
   "cell_type": "code",
   "execution_count": 104,
   "id": "2a16fcc8-fdac-4fc3-b380-ed8c7cc43e42",
   "metadata": {
    "collapsed": true,
    "jupyter": {
     "outputs_hidden": true
    }
   },
   "outputs": [
    {
     "data": {
      "text/plain": [
       "[1, 2, 4, 8, 16, 32, 64, 128, 256]"
      ]
     },
     "execution_count": 104,
     "metadata": {},
     "output_type": "execute_result"
    }
   ],
   "source": [
    "reverse_list2(squares)"
   ]
  },
  {
   "cell_type": "markdown",
   "id": "0e687211-761d-4457-97e1-f0fea6cb5225",
   "metadata": {},
   "source": [
    "### Exercise 10\n",
    "Write a short Python function that takes a sequence of integer values and determines if there is a distinct pair of numbers in the sequence whose product is odd.\n",
    "\n",
    "- first method checks the product to see odd result is true then saves\n",
    "  "
   ]
  },
  {
   "cell_type": "code",
   "execution_count": 130,
   "id": "7410fe66-677b-42de-86d5-a6acc89edb23",
   "metadata": {
    "collapsed": true,
    "jupyter": {
     "outputs_hidden": true
    }
   },
   "outputs": [],
   "source": [
    "def testfunc(array):\n",
    "    legnth_of_array= len(array)\n",
    "    odd_pairs = []\n",
    "    for idx,element in enumerate(array): \n",
    "        for i in range(idx +1,legnth_of_array):\n",
    "            product = element * array[i]\n",
    "            if (product & 1) == 1:\n",
    "                odd_pairs.append((element,array[i]))\n",
    "    return odd_pairs  \n",
    "            "
   ]
  },
  {
   "cell_type": "code",
   "execution_count": 131,
   "id": "5d5b5dc0-d468-4fdd-b137-e4bc7a7bd5b2",
   "metadata": {
    "collapsed": true,
    "jupyter": {
     "outputs_hidden": true
    }
   },
   "outputs": [
    {
     "data": {
      "text/plain": [
       "[(1, 3), (1, 5), (1, 7), (3, 5), (3, 7), (5, 7)]"
      ]
     },
     "execution_count": 131,
     "metadata": {},
     "output_type": "execute_result"
    }
   ],
   "source": [
    "testfunc([1,2,3,4,5,7])"
   ]
  },
  {
   "cell_type": "markdown",
   "id": "e778be72-8391-4a3c-9468-6a28ca6bd323",
   "metadata": {},
   "source": [
    "- second approach just checks if both numbers are odd. Because only two odd numbers can give you an odd number product"
   ]
  },
  {
   "cell_type": "code",
   "execution_count": 128,
   "id": "f5d1d8b8-1aa1-4627-8aaf-c235a2962995",
   "metadata": {
    "collapsed": true,
    "jupyter": {
     "outputs_hidden": true
    }
   },
   "outputs": [],
   "source": [
    "def testfunc2(array):\n",
    "    len_of_array = len(array)\n",
    "    odd_pairs = []\n",
    "    for idx,element in enumerate(array):\n",
    "        for i in range(idx + 1, len_of_array):\n",
    "            if ((element & 1) == 1 and (array[i] & 1) == 1):\n",
    "                odd_pairs.append((element,array[i]))\n",
    "    return odd_pairs\n",
    "                "
   ]
  },
  {
   "cell_type": "code",
   "execution_count": 129,
   "id": "12567aff-28f8-415f-910a-89b5700bcaca",
   "metadata": {
    "collapsed": true,
    "jupyter": {
     "outputs_hidden": true
    }
   },
   "outputs": [
    {
     "data": {
      "text/plain": [
       "[(1, 3), (1, 5), (1, 7), (3, 5), (3, 7), (5, 7)]"
      ]
     },
     "execution_count": 129,
     "metadata": {},
     "output_type": "execute_result"
    }
   ],
   "source": [
    "testfunc2([1,2,3,4,5,7])"
   ]
  },
  {
   "cell_type": "code",
   "execution_count": null,
   "id": "d20781e9-e4e0-4381-b096-36b6ecfb3551",
   "metadata": {
    "collapsed": true,
    "jupyter": {
     "outputs_hidden": true
    }
   },
   "outputs": [],
   "source": []
  }
 ],
 "metadata": {
  "kernelspec": {
   "display_name": "Python 3 (ipykernel)",
   "language": "python",
   "name": "python3"
  },
  "language_info": {
   "codemirror_mode": {
    "name": "ipython",
    "version": 3
   },
   "file_extension": ".py",
   "mimetype": "text/x-python",
   "name": "python",
   "nbconvert_exporter": "python",
   "pygments_lexer": "ipython3",
   "version": "3.12.4"
  }
 },
 "nbformat": 4,
 "nbformat_minor": 5
}
